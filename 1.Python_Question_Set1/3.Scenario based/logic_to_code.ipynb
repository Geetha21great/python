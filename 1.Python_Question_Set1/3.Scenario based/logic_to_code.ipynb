{
 "cells": [
  {
   "cell_type": "markdown",
   "id": "66912d2d-da44-4882-8994-85bfcd8460bf",
   "metadata": {},
   "source": [
    "Scenario: A system checks if a user is eligible to vote based on their age. ",
    " Write logic to ask the user for their age and determine if they are eligible to vote based on whether they are 18 or older."
   ]
  },
  {
   "cell_type": "markdown",
   "id": "1bde178a-bb36-4b87-8c0e-57c99540a099",
   "metadata": {},
   "source": [
    "       \tLogic-1:\n",
    "\t\t1.  get user age as input fro user.\n",
    "\t\t2.  check user age is above or equal to 18\n",
    "\t\t3.  If above or equal to 18 means output is’ you are eligible for vote.’\n",
    "\t\t4.  Below means output is ‘you are not eligible for vote’"
   ]
  },
  {
   "cell_type": "code",
   "execution_count": 9,
   "id": "7281a9b3-1376-4035-9f32-83a874795fb2",
   "metadata": {},
   "outputs": [
    {
     "name": "stdin",
     "output_type": "stream",
     "text": [
      "Enter the age: 17\n"
     ]
    },
    {
     "name": "stdout",
     "output_type": "stream",
     "text": [
      "you are not eligible for vote\n"
     ]
    }
   ],
   "source": [
    "age = int(input('Enter the age:'))\n",
    "if age >= 18:\n",
    "    print('You are eligible for vote')\n",
    "else:\n",
    "    print('you are not eligible for vote')"
   ]
  },
  {
   "cell_type": "markdown",
   "id": "5444b64b-074c-4894-a9ad-4e6fea9b34ba",
   "metadata": {},
   "source": [
    "Scenario: A program processes a list of numbers and needs to find the largest value. ",
    " Write logic to identify and return the largest number from a given list."
   ]
  },
  {
   "cell_type": "markdown",
   "id": "063c3f52-4307-4ead-b7b6-b5286029f42d",
   "metadata": {},
   "source": [
    "\tLogic-2:\n",
    "\t       1. get list of numbers which we need to find the largest number.\n",
    "\t       2. sort the list as ascending or descending Order.\n",
    "\t       3. If ascending ,last index value is largest one\n",
    "\t           If descending , first index value is largest one"
   ]
  },
  {
   "cell_type": "code",
   "execution_count": 18,
   "id": "d8589dbc-ea92-4e9b-ba55-eb0829c1e92e",
   "metadata": {},
   "outputs": [
    {
     "data": {
      "text/plain": [
       "50000"
      ]
     },
     "execution_count": 18,
     "metadata": {},
     "output_type": "execute_result"
    }
   ],
   "source": [
    "lst=[1,20,300,4000,50000,6,70,800,9000,10000]\n",
    "dec_list=sorted(lst,reverse=True)\n",
    "largest_number = dec_list[0]\n",
    "largest_number"
   ]
  },
  {
   "cell_type": "markdown",
   "id": "0ea88e20-7f3c-4eb2-8742-3eed195fd9a2",
   "metadata": {},
   "source": [
    "Scenario: A company provides employees with a 10% bonus if their salary exceeds $50,000. ",
    " Write logic to determine the bonus amount based on the given salary."
   ]
  },
  {
   "cell_type": "markdown",
   "id": "d2f060d5-3361-48de-89f1-f4205148df16",
   "metadata": {},
   "source": [
    "\tLogic-3:\n",
    "\t\t1. Get the salary count from user.\n",
    "\t\t2. Check whether it is exceed $50,000 or not.\n",
    "\t\t3. If it exceed that amount we have to increase 10% of their salary .\n",
    "\t\t\t(bonus amount = old salary/10,\n",
    "\t\t\t total salary = salary + bonus )"
   ]
  },
  {
   "cell_type": "code",
   "execution_count": 3,
   "id": "d1b022bd-9405-4e78-bcb9-f633b922ff42",
   "metadata": {},
   "outputs": [],
   "source": [
    "def bonusadd():\n",
    "    salary = int(input('Enter the salary:'))\n",
    "    if salary >= 50000:\n",
    "        bonus = (10/100)*salary\n",
    "        final_salary = salary + bonus\n",
    "        return final_salary\n",
    "    else:\n",
    "        return salary"
   ]
  },
  {
   "cell_type": "code",
   "execution_count": 5,
   "id": "7c7c12ed-9573-4d8c-8938-3cb513a52b79",
   "metadata": {},
   "outputs": [
    {
     "name": "stdin",
     "output_type": "stream",
     "text": [
      "Enter the salary: 50000\n"
     ]
    },
    {
     "data": {
      "text/plain": [
       "55000.0"
      ]
     },
     "execution_count": 5,
     "metadata": {},
     "output_type": "execute_result"
    }
   ],
   "source": [
    "bonusadd()"
   ]
  },
  {
   "cell_type": "markdown",
   "id": "07d40505-1b1d-4f2b-95dc-f781edd1f81d",
   "metadata": {},
   "source": [
    "Scenario: A program evaluates a number to determine if it is even or odd. ",
    " Write logic to check whether a given number is even or odd."
   ]
  },
  {
   "cell_type": "markdown",
   "id": "6f59f603-2b1e-4fcf-b543-9a2903795616",
   "metadata": {},
   "source": [
    "Logic-4:\n",
    "\t\t1. Get the number from user.\n",
    "\t\t2. Check the number is divisible by 2 or not.\n",
    "\t\t3. If yes means even, no means odd"
   ]
  },
  {
   "cell_type": "code",
   "execution_count": 50,
   "id": "4e0b015c-b94f-458e-a382-29cd308e9572",
   "metadata": {},
   "outputs": [],
   "source": [
    "def odd_even(num):\n",
    "    num = int(input('Enter the number:'))\n",
    "    if num%2 == 0:\n",
    "        return 'even'\n",
    "    else:\n",
    "        return 'odd'"
   ]
  },
  {
   "cell_type": "code",
   "execution_count": 52,
   "id": "99e8beeb-51e9-441d-8d7f-e15a68711be9",
   "metadata": {},
   "outputs": [
    {
     "name": "stdin",
     "output_type": "stream",
     "text": [
      "Enter the number: 2\n"
     ]
    },
    {
     "data": {
      "text/plain": [
       "'even'"
      ]
     },
     "execution_count": 52,
     "metadata": {},
     "output_type": "execute_result"
    }
   ],
   "source": [
    "odd_even(2)"
   ]
  },
  {
   "cell_type": "markdown",
   "id": "2ab63ec5-8bf7-4b4b-8b65-2fc24d01c948",
   "metadata": {},
   "source": [
    "Scenario: A text-processing tool reverses a given word or sentence for formatting purposes. ",
    " Write logic to take a word or sentence as input and produce its reversed version."
   ]
  },
  {
   "cell_type": "markdown",
   "id": "7dcdcb93-c893-4c6e-b4fd-e4b53be85d77",
   "metadata": {},
   "source": [
    "     Logic-5:\n",
    "\t\t1. Get the sentence or word.\n",
    "\t\t2. Using [::-1] we can reverse the sentence and word."
   ]
  },
  {
   "cell_type": "code",
   "execution_count": 54,
   "id": "90d7c947-48a0-480d-b1f0-80d5359bd49b",
   "metadata": {},
   "outputs": [
    {
     "data": {
      "text/plain": [
       "'nohtyP'"
      ]
     },
     "execution_count": 54,
     "metadata": {},
     "output_type": "execute_result"
    }
   ],
   "source": [
    "word = 'Python'\n",
    "word[::-1]"
   ]
  },
  {
   "cell_type": "code",
   "execution_count": 56,
   "id": "91ac9050-a7ef-4893-aad3-c30996b001db",
   "metadata": {},
   "outputs": [
    {
     "data": {
      "text/plain": [
       "'nohtyp gninrael ma I'"
      ]
     },
     "execution_count": 56,
     "metadata": {},
     "output_type": "execute_result"
    }
   ],
   "source": [
    "sentence = 'I am learning python'\n",
    "sentence[::-1]"
   ]
  },
  {
   "cell_type": "code",
   "execution_count": 60,
   "id": "c898ac44-0845-4b57-b0e2-8afadecc10f8",
   "metadata": {},
   "outputs": [
    {
     "data": {
      "text/plain": [
       "'I am learning python'"
      ]
     },
     "execution_count": 60,
     "metadata": {},
     "output_type": "execute_result"
    }
   ],
   "source": [
    "sentence = 'I am learning python'\n",
    "' '.join(sentence.split())"
   ]
  },
  {
   "cell_type": "markdown",
   "id": "8ab48647-380c-4b3b-8103-99161ca53124",
   "metadata": {},
   "source": [
    "Scenario: A grading system determines whether a student has passed or failed based on their score. ",
    " Write logic to check if a student has passed a subject by scoring at least 40 marks."
   ]
  },
  {
   "cell_type": "markdown",
   "id": "31394704-fe2c-43de-ae01-d7f4f62ccc05",
   "metadata": {},
   "source": [
    "\t Logic-6:\n",
    "\t\t1. Get the mark from the user.\n",
    "\t\t2. Check whether it is equal and above 40 or not.\n",
    "\t\t3. If yes means pass otherwise fail."
   ]
  },
  {
   "cell_type": "code",
   "execution_count": 72,
   "id": "3d2d875b-0234-4e07-bc70-7d24a750851b",
   "metadata": {},
   "outputs": [],
   "source": [
    "def grade(mark):\n",
    "    mark = int(input('Enter the marks:'))\n",
    "    if mark >= 40:\n",
    "        return 'pass'\n",
    "    else:\n",
    "        return 'fail'"
   ]
  },
  {
   "cell_type": "code",
   "execution_count": 74,
   "id": "9a178ae7-06d3-4489-8bc2-eb228fa0323f",
   "metadata": {},
   "outputs": [
    {
     "name": "stdin",
     "output_type": "stream",
     "text": [
      "Enter the marks: 100\n"
     ]
    },
    {
     "data": {
      "text/plain": [
       "'pass'"
      ]
     },
     "execution_count": 74,
     "metadata": {},
     "output_type": "execute_result"
    }
   ],
   "source": [
    "grade(50)"
   ]
  },
  {
   "cell_type": "markdown",
   "id": "66e71677-07e6-480f-bc3b-0b8f08dce178",
   "metadata": {},
   "source": [
    "Scenario: A retail store offers a 20% discount if a customer’s total order exceeds $100. Write logic to calculate the final amount to be paid after applying the discount"
   ]
  },
  {
   "cell_type": "markdown",
   "id": "3daca659-8f4e-43ee-ac93-14cfe88c7eb2",
   "metadata": {},
   "source": [
    "\tLogic-7:\n",
    "\t\t1. Get the total amount from the user.\n",
    "\t\t2. Check whether, total amount is exceed or equal to $100.\n",
    "\t\t3. If yes means find the discount amount\n",
    "\t\t\t[discount amount = total amount /20 ]\n",
    "\t\t4. Total amount - discount amount = final amount."
   ]
  },
  {
   "cell_type": "code",
   "execution_count": 16,
   "id": "909268b2-7a34-4b74-9ef4-d25352a21060",
   "metadata": {},
   "outputs": [],
   "source": [
    "def discount(Total_amount):\n",
    "    Total_amount = int(input('Enter the total amount:'))\n",
    "    if Total_amount >= 100:\n",
    "        discount_amount =((20/100)*Total_amount)\n",
    "        Final_amount=Total_amount - discount_amount\n",
    "        return Final_amount"
   ]
  },
  {
   "cell_type": "code",
   "execution_count": 18,
   "id": "eef4d250-a9ec-4d3f-8867-11df4bfbf993",
   "metadata": {},
   "outputs": [
    {
     "name": "stdin",
     "output_type": "stream",
     "text": [
      "Enter the total amount: 200\n"
     ]
    },
    {
     "data": {
      "text/plain": [
       "160.0"
      ]
     },
     "execution_count": 18,
     "metadata": {},
     "output_type": "execute_result"
    }
   ],
   "source": [
    "discount(200)"
   ]
  },
  {
   "cell_type": "markdown",
   "id": "d3d3b4f6-1086-4965-8709-02a4f64ce339",
   "metadata": {},
   "source": [
    "Scenario: A banking system processes withdrawal requests and ensures the user has enough balance.\n",
    " Write logic to check if a user has enough balance before allowing a withdrawal and update the remaining balance accordingly."
   ]
  },
  {
   "cell_type": "markdown",
   "id": "4f2a56dd-45e6-4899-8ca4-d80d5e3141a5",
   "metadata": {},
   "source": [
    "\tLogic-8:\n",
    "\t\t1. Get the withdrawal amount from the user.\n",
    "\t\t2. Check the user has enough amount or not.\n",
    "\t3. If yes means, total amount - withdrawal amount = balance amount \n",
    "\t4. If no means, send the text message \n",
    "\t\t ‘you don’t have enough money, your balance is ’balance amount’."
   ]
  },
  {
   "cell_type": "code",
   "execution_count": 48,
   "id": "4553c0e3-1f27-47e0-86a1-20d33267e39b",
   "metadata": {},
   "outputs": [],
   "source": [
    "def withrawal(withdrawal_amount):\n",
    "    Balance_amount = 5000\n",
    "    withdrawal_amount = int(input('Enter a withdrawal amount:'))\n",
    "    if withdrawal_amount <= Balance_amount:\n",
    "        final_balance = Balance_amount-withdrawal_amount\n",
    "        Balance_amount = final_balance\n",
    "        return Balance_amount\n",
    "    else:\n",
    "        return 'insufficient balance '"
   ]
  },
  {
   "cell_type": "code",
   "execution_count": 50,
   "id": "96ba920f-68d9-441e-93c6-297d61f54f6c",
   "metadata": {},
   "outputs": [
    {
     "name": "stdin",
     "output_type": "stream",
     "text": [
      "Enter a withdrawal amount: 2000\n"
     ]
    },
    {
     "data": {
      "text/plain": [
       "3000"
      ]
     },
     "execution_count": 50,
     "metadata": {},
     "output_type": "execute_result"
    }
   ],
   "source": [
    "withrawal(3000)"
   ]
  },
  {
   "cell_type": "markdown",
   "id": "20cf2ee3-5e13-400b-b51c-acc11fe49179",
   "metadata": {},
   "source": [
    "Scenario: A calendar system verifies whether a given year is a leap year based on standard leap year rules. ",
    " Write logic to determine whether a given year is a leap year."
   ]
  },
  {
   "cell_type": "markdown",
   "id": "d9d6bfe1-4d76-4eda-81b5-aeff16ac2e60",
   "metadata": {},
   "source": [
    "\tLogic-9:\n",
    "\t\t1. Get the input year from the user.\n",
    "\t\t2. Check whether, \n",
    "\t\t\tyear divisible by 400, or \n",
    "\t\t\tyear not divisible by 100 and \n",
    "\t\t\tyear divisible by 4.\n",
    "\t\t3. If satisfy those condition return leap year else not leap year."
   ]
  },
  {
   "cell_type": "code",
   "execution_count": 52,
   "id": "bfb6b63c-9071-4838-bb81-f79dd987c141",
   "metadata": {},
   "outputs": [],
   "source": [
    "def leap_year(year):\n",
    "    year = int(input('Enter the year:'))\n",
    "    if ((year%400 ==0)| (year != 100)&(year%4==0)):\n",
    "        return 'Leap year'\n",
    "    else:\n",
    "        return 'Not leap year'"
   ]
  },
  {
   "cell_type": "code",
   "execution_count": 58,
   "id": "c09151f3-79d8-469f-8125-db1e95f1293c",
   "metadata": {},
   "outputs": [
    {
     "name": "stdin",
     "output_type": "stream",
     "text": [
      "Enter the year: 2024\n"
     ]
    },
    {
     "data": {
      "text/plain": [
       "'Leap year'"
      ]
     },
     "execution_count": 58,
     "metadata": {},
     "output_type": "execute_result"
    }
   ],
   "source": [
    "leap_year(2024)"
   ]
  },
  {
   "cell_type": "markdown",
   "id": "da2a0ba2-2124-44b6-b405-6e4cfa1daaca",
   "metadata": {},
   "source": [
    "Scenario: A program filters out only even numbers from a given list. ",
    " Write logic to extract and return only the even numbers from a list."
   ]
  },
  {
   "cell_type": "markdown",
   "id": "d8129bd7-08bf-44df-b30a-49c661a75e7a",
   "metadata": {},
   "source": [
    "\tLogic-10:\n",
    "\t\t1. Get the number from the user.\n",
    "\t\t2. Check whether it is divisible by 2 or not.\n",
    "\t\t3. If yes, return the number."
   ]
  },
  {
   "cell_type": "code",
   "execution_count": 94,
   "id": "36c92b89-aea5-4665-9cf1-e4b1202db78d",
   "metadata": {},
   "outputs": [],
   "source": [
    "def odd_even(list):\n",
    "    result = []\n",
    "    for i in list:\n",
    "        if i%2==0:\n",
    "            result.append(i)\n",
    "    return result  "
   ]
  },
  {
   "cell_type": "code",
   "execution_count": 96,
   "id": "2abf0ce2-b617-409d-b7ca-b4fb730bed52",
   "metadata": {},
   "outputs": [
    {
     "data": {
      "text/plain": [
       "[2, 4, 6, 8, 10, 22, 24, 54, 78]"
      ]
     },
     "execution_count": 96,
     "metadata": {},
     "output_type": "execute_result"
    }
   ],
   "source": [
    "list1 = [2,3,4,5,6,7,8,9,10,22,23,24,54,67,78]\n",
    "odd_even(list1)"
   ]
  },
  {
   "cell_type": "code",
   "execution_count": null,
   "id": "8846256f-0abf-41be-bf55-dce1bac8e0f3",
   "metadata": {},
   "outputs": [],
   "source": []
  }
 ],
 "metadata": {
  "kernelspec": {
   "display_name": "Python 3 (ipykernel)",
   "language": "python",
   "name": "python3"
  },
  "language_info": {
   "codemirror_mode": {
    "name": "ipython",
    "version": 3
   },
   "file_extension": ".py",
   "mimetype": "text/x-python",
   "name": "python",
   "nbconvert_exporter": "python",
   "pygments_lexer": "ipython3",
   "version": "3.12.4"
  }
 },
 "nbformat": 4,
 "nbformat_minor": 5
}
