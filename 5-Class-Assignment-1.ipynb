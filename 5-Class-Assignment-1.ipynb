{
 "cells": [
  {
   "cell_type": "markdown",
   "id": "8468d350-df28-4909-9447-db124cea957c",
   "metadata": {},
   "source": [
    "# Class-Assignment-1 #"
   ]
  },
  {
   "cell_type": "code",
   "execution_count": 39,
   "id": "d9216977-7a17-4740-afe8-2264a6ed87dd",
   "metadata": {},
   "outputs": [],
   "source": [
    "# Create a class and function, and list out the items in the list\n",
    "class SubfieldsInAI():\n",
    "    def Subfields():\n",
    "        print('Sub-fields in AI are:')\n",
    "        print('Machine Learning')\n",
    "        print('Neural Networks')\n",
    "        print('Vision')\n",
    "        print('Robotics')\n",
    "        print('Speech Processing')\n",
    "        print('Natural Language Processing')      "
   ]
  },
  {
   "cell_type": "code",
   "execution_count": 41,
   "id": "731725b3-0b42-4482-8537-19be76a300fe",
   "metadata": {},
   "outputs": [
    {
     "name": "stdout",
     "output_type": "stream",
     "text": [
      "Sub-fields in AI are:\n",
      "Machine Learning\n",
      "Neural Networks\n",
      "Vision\n",
      "Robotics\n",
      "Speech Processing\n",
      "Natural Language Processing\n"
     ]
    }
   ],
   "source": [
    "SubfieldsInAI.Subfields()"
   ]
  },
  {
   "cell_type": "code",
   "execution_count": null,
   "id": "e310f286-ce26-4e4a-8c42-71c3443386a6",
   "metadata": {},
   "outputs": [],
   "source": [
    "# Create a function that checks whether the given number is Odd or Even"
   ]
  },
  {
   "cell_type": "code",
   "execution_count": 49,
   "id": "7694d32c-8003-406f-acad-c1f4555a2a8e",
   "metadata": {},
   "outputs": [],
   "source": [
    "class OddEven():\n",
    "    def OddEven():\n",
    "        num=int(input('Enter a number'))\n",
    "        if ((num%2)==0):\n",
    "            print(f'{num} is Even number')\n",
    "        else:\n",
    "            print(f'{num} is odd number')       "
   ]
  },
  {
   "cell_type": "code",
   "execution_count": 51,
   "id": "5ce7dc03-ea8e-497c-8703-9e77601f51bc",
   "metadata": {},
   "outputs": [
    {
     "name": "stdin",
     "output_type": "stream",
     "text": [
      "Enter a number 34\n"
     ]
    },
    {
     "name": "stdout",
     "output_type": "stream",
     "text": [
      "34 is Even number\n"
     ]
    }
   ],
   "source": [
    "OddEven.OddEven()"
   ]
  },
  {
   "cell_type": "code",
   "execution_count": null,
   "id": "eb89ccfe-9f62-4e42-9ac1-b9234ccdd8b9",
   "metadata": {},
   "outputs": [],
   "source": [
    "# Create a function that tells elegibility of marriage for male and female according to their age limit like 21 for male and 18 for female"
   ]
  },
  {
   "cell_type": "code",
   "execution_count": 5,
   "id": "2b8141d1-f673-4bec-a571-8787edf6bd88",
   "metadata": {},
   "outputs": [],
   "source": [
    "class  ElegiblityForMarriage():\n",
    "    def Elegible():\n",
    "        gender=input('Your gender:')\n",
    "        age = int(input('Your age:'))\n",
    "        if (gender == 'male' or gender == 'Male')&(age >= 21):\n",
    "            print('you are eligible for marriage')\n",
    "        elif(gender == 'female' or gender == 'Female')&(age >= 18):\n",
    "            print('you are eligible for marriage') \n",
    "        else:\n",
    "            print('you are not eligible for marriage')"
   ]
  },
  {
   "cell_type": "code",
   "execution_count": 7,
   "id": "8aeb9723-7c2c-4d7a-8750-6f0ed864ca3e",
   "metadata": {},
   "outputs": [
    {
     "name": "stdin",
     "output_type": "stream",
     "text": [
      "Your gender: Male\n",
      "Your age: 21\n"
     ]
    },
    {
     "name": "stdout",
     "output_type": "stream",
     "text": [
      "you are eligible for marriage\n"
     ]
    }
   ],
   "source": [
    " ElegiblityForMarriage.Elegible()"
   ]
  },
  {
   "cell_type": "code",
   "execution_count": 9,
   "id": "851c5c62-2a51-453a-9a34-f2c53f05464f",
   "metadata": {},
   "outputs": [],
   "source": [
    "# calculate the percentage of your 10th mark\n",
    "class FindPercent():\n",
    "    def percentage():\n",
    "        sub1=int(input('subject-1 :'))\n",
    "        sub2=int(input('subject-2 :'))\n",
    "        sub3=int(input('subject-3 :'))\n",
    "        sub4=int(input('subject-4 :'))\n",
    "        sub5=int(input('subject-5 :'))\n",
    "        Total = (sub1+sub2+sub3+sub4+sub5)\n",
    "        percentage = (Total/5)\n",
    "        print('Total:',Total)\n",
    "        print('percentage:',percentage)"
   ]
  },
  {
   "cell_type": "code",
   "execution_count": 11,
   "id": "8fa720e4-aa68-404a-b5b6-2d1e2ed26619",
   "metadata": {},
   "outputs": [
    {
     "name": "stdin",
     "output_type": "stream",
     "text": [
      "subject-1 : 89\n",
      "subject-2 : 99\n",
      "subject-3 : 78\n",
      "subject-4 : 99\n",
      "subject-5 : 89\n"
     ]
    },
    {
     "name": "stdout",
     "output_type": "stream",
     "text": [
      "Total: 454\n",
      "percentage: 90.8\n"
     ]
    }
   ],
   "source": [
    " FindPercent.percentage()"
   ]
  },
  {
   "cell_type": "code",
   "execution_count": 9,
   "id": "bebd9f8c-b855-4754-acb8-69d1c045da42",
   "metadata": {},
   "outputs": [],
   "source": [
    "# print area and perimeter of triangle using class and functions\n",
    "class triangle():\n",
    "    def triangle():\n",
    "        Height=int(input('Height'))\n",
    "        Breadth=int(input('Breath:'))\n",
    "        Area_triangel=(Height*Breadth)/2\n",
    "        print('Area Formula:(Height*Breadth)/2')\n",
    "        print('Area of Triangle:',Area_triangel)\n",
    "        \n",
    "        Height1=int(input('Height1:'))\n",
    "        Height2=int(input('Height2:'))\n",
    "        Breadth=int(input('Breath'))\n",
    "        perimeter_triangle=Height1+Height2+Breadth\n",
    "        print('Perimeter Formula:Height1+Height2+Breadth')\n",
    "        print('Perimeter of triangle',perimeter_triangle)\n"
   ]
  },
  {
   "cell_type": "code",
   "execution_count": 11,
   "id": "6e5e1fe5-91ce-4947-b0e0-81c449e2a5f5",
   "metadata": {},
   "outputs": [
    {
     "name": "stdin",
     "output_type": "stream",
     "text": [
      "Height 12\n",
      "Breath: 21\n"
     ]
    },
    {
     "name": "stdout",
     "output_type": "stream",
     "text": [
      "Area Formula:(Height*Breadth)/2\n",
      "Area of Triangle: 126.0\n"
     ]
    },
    {
     "name": "stdin",
     "output_type": "stream",
     "text": [
      "Height1: 23\n",
      "Height2: 21\n",
      "Breath 34\n"
     ]
    },
    {
     "name": "stdout",
     "output_type": "stream",
     "text": [
      "Perimeter Formula:Height1+Height2+Breadth\n",
      "Perimeter of triangle 78\n"
     ]
    }
   ],
   "source": [
    "triangle.triangle()"
   ]
  },
  {
   "cell_type": "code",
   "execution_count": null,
   "id": "f9cdae7d-d141-48a2-a665-660d9035296f",
   "metadata": {},
   "outputs": [],
   "source": []
  }
 ],
 "metadata": {
  "kernelspec": {
   "display_name": "Python 3 (ipykernel)",
   "language": "python",
   "name": "python3"
  },
  "language_info": {
   "codemirror_mode": {
    "name": "ipython",
    "version": 3
   },
   "file_extension": ".py",
   "mimetype": "text/x-python",
   "name": "python",
   "nbconvert_exporter": "python",
   "pygments_lexer": "ipython3",
   "version": "3.12.4"
  }
 },
 "nbformat": 4,
 "nbformat_minor": 5
}
