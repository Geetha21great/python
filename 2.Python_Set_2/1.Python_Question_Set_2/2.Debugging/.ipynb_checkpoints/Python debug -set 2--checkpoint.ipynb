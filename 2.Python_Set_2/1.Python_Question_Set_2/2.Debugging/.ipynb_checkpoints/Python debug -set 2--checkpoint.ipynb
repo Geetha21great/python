{
 "cells": [
  {
   "cell_type": "code",
   "execution_count": null,
   "id": "b09b005b-ee0d-4f3d-b4f4-2fa49d36a209",
   "metadata": {},
   "outputs": [],
   "source": [
    "#1.Find the error in the following Python code:\n",
    "import math\n",
    "print(Math.sqrt(16))\n"
   ]
  },
  {
   "cell_type": "code",
   "execution_count": 4,
   "id": "c81bd8c3-062d-4512-a1b3-4b56d078e87b",
   "metadata": {},
   "outputs": [
    {
     "name": "stdout",
     "output_type": "stream",
     "text": [
      "4.0\n"
     ]
    }
   ],
   "source": [
    "#Answer:Nameerror(math)\n",
    "import math\n",
    "print(math.sqrt(16))"
   ]
  },
  {
   "cell_type": "code",
   "execution_count": null,
   "id": "b21d2ade-17bb-409f-b98d-a08b5a779466",
   "metadata": {},
   "outputs": [],
   "source": [
    "#2.Find the error in the following Python code:\n",
    "def my_function():\n",
    "    x += 5\n",
    "    print(x)\n",
    "\n",
    "x = 10\n",
    "my_function()\n"
   ]
  },
  {
   "cell_type": "code",
   "execution_count": 10,
   "id": "bbf35ae8-f01d-429e-8e5f-a443b581329b",
   "metadata": {},
   "outputs": [
    {
     "name": "stdout",
     "output_type": "stream",
     "text": [
      "15\n"
     ]
    }
   ],
   "source": [
    "# Answer:Parameters not declared:x?\n",
    "def my_function(x):\n",
    "    x += 5\n",
    "    print(x)\n",
    "\n",
    "x = 10\n",
    "my_function(x)"
   ]
  },
  {
   "cell_type": "code",
   "execution_count": null,
   "id": "f23899ca",
   "metadata": {},
   "outputs": [],
   "source": [
    "#3.x = 5\n",
    "if x = 10:\n",
    "    print(\"x is 10\")\n"
   ]
  },
  {
   "cell_type": "code",
   "execution_count": 14,
   "id": "3d339f09-e94f-4955-b8ae-a15d47585e8e",
   "metadata": {},
   "outputs": [
    {
     "name": "stdout",
     "output_type": "stream",
     "text": [
      "x is 10\n"
     ]
    }
   ],
   "source": [
    "#Answer:we have to use equalent operater:\n",
    "if x == 10:\n",
    "    print(\"x is 10\")"
   ]
  },
  {
   "cell_type": "code",
   "execution_count": null,
   "id": "c644c2f2",
   "metadata": {},
   "outputs": [],
   "source": [
    "#4.\n",
    "numbers = [5, 3, 8, 2]\n",
    "print(numbers.sort())\n"
   ]
  },
  {
   "cell_type": "code",
   "execution_count": 16,
   "id": "26573157-6151-45b1-94cb-05180513b2fc",
   "metadata": {},
   "outputs": [
    {
     "name": "stdout",
     "output_type": "stream",
     "text": [
      "None\n"
     ]
    }
   ],
   "source": [
    "#Answer:\n",
    "numbers = [5, 3, 8, 2]\n",
    "print(numbers.sort())"
   ]
  },
  {
   "cell_type": "code",
   "execution_count": 18,
   "id": "2e14a96e-7fc9-4f53-881a-d26872b9d9e0",
   "metadata": {},
   "outputs": [
    {
     "name": "stdout",
     "output_type": "stream",
     "text": [
      "[2, 3, 5, 8]\n"
     ]
    }
   ],
   "source": [
    "# method-1:\n",
    "numbers = [5, 3, 8, 2]\n",
    "numbers.sort()\n",
    "print(numbers)"
   ]
  },
  {
   "cell_type": "code",
   "execution_count": 22,
   "id": "af7d265b-7184-489a-a4e3-b0f7cc6ce1cb",
   "metadata": {},
   "outputs": [
    {
     "name": "stdout",
     "output_type": "stream",
     "text": [
      "[2, 3, 5, 8]\n"
     ]
    }
   ],
   "source": [
    "# Methos-2:\n",
    "numbers = [5, 3, 8, 2]\n",
    "print(sorted(numbers))"
   ]
  },
  {
   "cell_type": "code",
   "execution_count": null,
   "id": "c6bc9bfb",
   "metadata": {},
   "outputs": [],
   "source": [
    "#5.\n",
    "def square(n):\n",
    "    n * n\n",
    "\n",
    "print(square(4))\n"
   ]
  },
  {
   "cell_type": "code",
   "execution_count": 3,
   "id": "a5aefbdb-9d30-4e5a-9b8c-958b7fe75cc5",
   "metadata": {},
   "outputs": [
    {
     "name": "stdout",
     "output_type": "stream",
     "text": [
      "16\n"
     ]
    }
   ],
   "source": [
    "# Answer:Issue: The function does not return a value explicitly.\n",
    "def square(n):\n",
    "    return n * n\n",
    "\n",
    "print(square(4))"
   ]
  },
  {
   "cell_type": "code",
   "execution_count": 5,
   "id": "39f00b24-3296-49c9-8257-7693216c4d2b",
   "metadata": {},
   "outputs": [
    {
     "data": {
      "text/plain": [
       "16"
      ]
     },
     "execution_count": 5,
     "metadata": {},
     "output_type": "execute_result"
    }
   ],
   "source": [
    "def square(n):\n",
    "    square = n * n\n",
    "    return square\n",
    "square(4)"
   ]
  },
  {
   "cell_type": "code",
   "execution_count": null,
   "id": "3a9dbcc0",
   "metadata": {},
   "outputs": [],
   "source": [
    "#6.\n",
    "my_tuple = (1, 2, 3)\n",
    "my_tuple[1] = 5\n"
   ]
  },
  {
   "cell_type": "code",
   "execution_count": null,
   "id": "72821222-11d3-4cc7-8511-6a5e0bc9ca5a",
   "metadata": {},
   "outputs": [],
   "source": [
    "# Answer:\n",
    "Tuple is immutable(we cannot assign the value in tuple.) "
   ]
  },
  {
   "cell_type": "code",
   "execution_count": null,
   "id": "4a72685b",
   "metadata": {},
   "outputs": [],
   "source": [
    "#7.\n",
    "name = \"Alice\"\n",
    "age = 25\n",
    "print(\"My name is %s and I am %d years old\" % (name))\n"
   ]
  },
  {
   "cell_type": "code",
   "execution_count": 48,
   "id": "fdc6804f-f6f5-4b34-a7aa-f05662efe8fa",
   "metadata": {},
   "outputs": [
    {
     "name": "stdout",
     "output_type": "stream",
     "text": [
      "My name is Alice and I am 25 years old\n"
     ]
    }
   ],
   "source": [
    "#Answer:argument missed\n",
    "name = \"Alice\"\n",
    "age = 25\n",
    "print(\"My name is %s and I am %d years old\" % (name,age))\n"
   ]
  },
  {
   "cell_type": "code",
   "execution_count": 56,
   "id": "663694a6-e659-47e5-b754-609f654efb33",
   "metadata": {},
   "outputs": [
    {
     "name": "stdout",
     "output_type": "stream",
     "text": [
      "(\"My name is Alice and I am 25 years old\")\n"
     ]
    }
   ],
   "source": [
    "name = \"Alice\"\n",
    "age = 25\n",
    "print(f'(\"My name is {name} and I am {age} years old\")' )\n"
   ]
  },
  {
   "cell_type": "code",
   "execution_count": null,
   "id": "3de969fe",
   "metadata": {},
   "outputs": [],
   "source": [
    "#8.\n",
    "a = [1, 2, 3]\n",
    "b = [1, 2, 3]\n",
    "if a is b:\n",
    "    print(\"Lists are equal\")\n"
   ]
  },
  {
   "cell_type": "code",
   "execution_count": 62,
   "id": "5a336f77-3cb3-471c-9aed-56e46c607bac",
   "metadata": {},
   "outputs": [
    {
     "name": "stdout",
     "output_type": "stream",
     "text": [
      "Lists are equal\n"
     ]
    }
   ],
   "source": [
    "#Answer:\n",
    "'''Its check the identity.but,it is diffrent list in same value if we want to check values or equal are not ,\n",
    "use equalent operaton to check.'''\n",
    "a = [1, 2, 3]\n",
    "b = [1, 2, 3]\n",
    "if a == b:\n",
    "    print(\"Lists are equal\")"
   ]
  },
  {
   "cell_type": "code",
   "execution_count": null,
   "id": "dbe38465",
   "metadata": {},
   "outputs": [],
   "source": [
    "#9.\n",
    "for i in range(5, 1):\n",
    "    print(i)\n"
   ]
  },
  {
   "cell_type": "code",
   "execution_count": 68,
   "id": "6c92d5cb-c678-4241-87de-11cf17ad5358",
   "metadata": {},
   "outputs": [
    {
     "name": "stdout",
     "output_type": "stream",
     "text": [
      "5\n",
      "4\n",
      "3\n",
      "2\n"
     ]
    }
   ],
   "source": [
    "# Answer:steps is not mentioned.\n",
    "for i in range(5, 1,-1):  # Step should be negative to decrement\n",
    "    print(i)"
   ]
  },
  {
   "cell_type": "code",
   "execution_count": null,
   "id": "30cb0523",
   "metadata": {},
   "outputs": [],
   "source": [
    "#10.\n",
    "student = {\"name\": \"John\", \"age\": 20}\n",
    "print(student[name])\n"
   ]
  },
  {
   "cell_type": "code",
   "execution_count": 92,
   "id": "13271a62-3acc-4c79-a70f-11cf778bd600",
   "metadata": {},
   "outputs": [
    {
     "name": "stdout",
     "output_type": "stream",
     "text": [
      "John\n"
     ]
    }
   ],
   "source": [
    "# Answer:The key should be a string, but name is not defined as a variable.\n",
    "student = {\"name\": \"John\", \"age\": 20}\n",
    "print(student['name'])\n"
   ]
  },
  {
   "cell_type": "code",
   "execution_count": null,
   "id": "93580172-ca9e-4eed-8db4-a6480238e5e8",
   "metadata": {},
   "outputs": [],
   "source": []
  }
 ],
 "metadata": {
  "kernelspec": {
   "display_name": "Python 3 (ipykernel)",
   "language": "python",
   "name": "python3"
  },
  "language_info": {
   "codemirror_mode": {
    "name": "ipython",
    "version": 3
   },
   "file_extension": ".py",
   "mimetype": "text/x-python",
   "name": "python",
   "nbconvert_exporter": "python",
   "pygments_lexer": "ipython3",
   "version": "3.12.4"
  }
 },
 "nbformat": 4,
 "nbformat_minor": 5
}
