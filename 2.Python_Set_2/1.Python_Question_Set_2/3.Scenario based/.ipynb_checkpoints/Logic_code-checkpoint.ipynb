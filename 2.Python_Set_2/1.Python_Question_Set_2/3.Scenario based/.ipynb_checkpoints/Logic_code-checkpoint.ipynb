{
 "cells": [
  {
   "cell_type": "markdown",
   "id": "b92e0ea1-9b91-49a9-9291-c339b3bcb340",
   "metadata": {},
   "source": [
    "Scenario: You are developing a banking application that categorizes transactions based on the amount entered. ",
    " Write logic to determine whether the amount is positive, negative, or zero."
   ]
  },
  {
   "cell_type": "markdown",
   "id": "37a83fae-eb1a-4885-8811-790485f46f21",
   "metadata": {},
   "source": [
    "\tLogic-1:\n",
    "\t\t1. Get the input amount from user.\n",
    "\t\t2. If input amount is greater than the zero means its positive, lessthen that zero means negative, if it is equal to zero means zero."
   ]
  },
  {
   "cell_type": "code",
   "execution_count": 4,
   "id": "494a5338-188f-4ef5-bcd7-42878f4535c4",
   "metadata": {},
   "outputs": [],
   "source": [
    "def Balancecheck(Transaction_amount):\n",
    "    if Transaction_amount <0:\n",
    "        return 'negative balance'\n",
    "    elif Transaction_amount == 0:\n",
    "        return 'Zero Balance'\n",
    "    else:\n",
    "        return 'positive Balance'\n",
    "    "
   ]
  },
  {
   "cell_type": "code",
   "execution_count": 10,
   "id": "065b7091-3e67-48a0-8bde-bb1103e0d9c1",
   "metadata": {},
   "outputs": [
    {
     "name": "stdin",
     "output_type": "stream",
     "text": [
      "Enter the number: 0\n"
     ]
    },
    {
     "data": {
      "text/plain": [
       "'Zero Balance'"
      ]
     },
     "execution_count": 10,
     "metadata": {},
     "output_type": "execute_result"
    }
   ],
   "source": [
    "Transaction_amount = int(input('Enter the number:'))\n",
    "Balancecheck(Transaction_amount)"
   ]
  },
  {
   "cell_type": "markdown",
   "id": "0edc58f2-0c27-4aed-9e6e-a2cbe5a2b346",
   "metadata": {},
   "source": [
    "2.Scenario: A digital locker requires users to enter a numerical passcode. As part of a security feature, the system checks the sum of the digits of the passcode. ",
    " \tWrite logic to compute the sum of the digits of a given number."
   ]
  },
  {
   "cell_type": "markdown",
   "id": "6ae6b7f6-9fcf-4443-b0d8-ebc90e89a798",
   "metadata": {},
   "source": [
    "Logic-2:\n",
    "    1. Get the digits from user.\n",
    "    2. Set the sum of the digits(security passcode).\n",
    "    4. split it as a individual digits and sum()\n",
    "    3. If user digits are equal to sum of the digits means ‘open’ otherwise ‘not open’"
   ]
  },
  {
   "cell_type": "code",
   "execution_count": 25,
   "id": "b4683a34-38a7-4845-adfa-568efc8ffbd7",
   "metadata": {},
   "outputs": [],
   "source": [
    "def sum_of_digits(num):\n",
    "    total=0\n",
    "    while num > 0:\n",
    "        total=total+(num%10)\n",
    "        num = num//10\n",
    "    return total"
   ]
  },
  {
   "cell_type": "code",
   "execution_count": 27,
   "id": "20bb3665-569b-4958-9a02-9eabf9f2f262",
   "metadata": {},
   "outputs": [
    {
     "name": "stdin",
     "output_type": "stream",
     "text": [
      "Enter the Numbers: 123456\n"
     ]
    },
    {
     "data": {
      "text/plain": [
       "21"
      ]
     },
     "execution_count": 27,
     "metadata": {},
     "output_type": "execute_result"
    }
   ],
   "source": [
    "num=int(input('Enter the Numbers:'))\n",
    "sum_of_digits(num)"
   ]
  },
  {
   "cell_type": "markdown",
   "id": "44d28580-0b60-400c-9d40-d93be37027d2",
   "metadata": {},
   "source": [
    "3. Scenario: A mobile payment app uses a simple checksum validation where reversing a \ttransaction ID helps detect fraud. ",
    "\t Write logic to take a number and return its reverse."
   ]
  },
  {
   "cell_type": "markdown",
   "id": "fa229194-5df9-4884-9bd5-45348ed601b4",
   "metadata": {},
   "source": [
    "Logic-3:\n",
    "Start with a number.\n",
    "\n",
    "Take the last digit using % 10.\n",
    "\n",
    "Add it to a new number (by shifting digits using * 10).\n",
    "\n",
    "Remove the last digit from the original number using // 10.\n",
    "\n",
    "Repeat until the original number becomes 0."
   ]
  },
  {
   "cell_type": "code",
   "execution_count": 43,
   "id": "50aacaea-b9cf-49a7-9bac-7909ecf8c15b",
   "metadata": {},
   "outputs": [],
   "source": [
    "def reverse_id(num):\n",
    "    reverse_TranscectionID = 0\n",
    "    while num > 0:\n",
    "        digit=num%10\n",
    "        reverse_TranscectionID = reverse_TranscectionID * 10 + digit\n",
    "        num=num//10\n",
    "    return reverse_TranscectionID"
   ]
  },
  {
   "cell_type": "code",
   "execution_count": 45,
   "id": "feed7689-a90b-404c-9ba5-696fd64854a6",
   "metadata": {},
   "outputs": [
    {
     "name": "stdin",
     "output_type": "stream",
     "text": [
      "Enter the number: 6789\n"
     ]
    },
    {
     "data": {
      "text/plain": [
       "9876"
      ]
     },
     "execution_count": 45,
     "metadata": {},
     "output_type": "execute_result"
    }
   ],
   "source": [
    "num=int(input('Enter the number:'))\n",
    "reverse_id(num)"
   ]
  },
  {
   "cell_type": "markdown",
   "id": "5b47b2d7-7aa0-4462-8767-da02cd02be09",
   "metadata": {},
   "source": [
    "4. Scenario:\n",
    "In a secure login system, certain features are enabled only for users with \tprime-numbered user IDs. ",
    " Write logic to check if a given number is prime."
   ]
  },
  {
   "cell_type": "markdown",
   "id": "e0f04c4c-b635-40b4-8fcd-383ae7ced0da",
   "metadata": {},
   "source": [
    "\tLogic-4:\n",
    "\t\t1. Get the user id(num) fro user:\n",
    "\t\t2. Num should be greater then one .becuse, it divisible by 1 itself.\n",
    "\t\t3. find the prime or not from range(2, square root of n + 1)\n",
    "\t\t4. If num % iterated value is equal to zero once in this range means , ‘its not a prime number’ otherwise 'prime number'"
   ]
  },
  {
   "cell_type": "code",
   "execution_count": 61,
   "id": "ff33cc09-0192-4ca9-a6e3-efec3b4e456c",
   "metadata": {},
   "outputs": [],
   "source": [
    "def prime_number(user_id):\n",
    "    if user_id <=1:\n",
    "        return user_id,'is not a prime number'\n",
    "    for i in range(2,int(user_id**0.5)+1):\n",
    "        if user_id%i==0:\n",
    "            return user_id,'is not a prime number'\n",
    "    return user_id,'is a prime number'"
   ]
  },
  {
   "cell_type": "code",
   "execution_count": 63,
   "id": "06f10e22-5d4f-44c8-a854-496b5da1711b",
   "metadata": {},
   "outputs": [
    {
     "name": "stdin",
     "output_type": "stream",
     "text": [
      "Enter the user ID 22\n"
     ]
    },
    {
     "data": {
      "text/plain": [
       "(22, 'is not a prime number')"
      ]
     },
     "execution_count": 63,
     "metadata": {},
     "output_type": "execute_result"
    }
   ],
   "source": [
    "user_id = int(input('Enter the user ID'))\n",
    "prime_number(user_id)"
   ]
  },
  {
   "cell_type": "markdown",
   "id": "bd392fc7-fbe8-42fc-b021-3a2017026780",
   "metadata": {},
   "source": [
    "5.Scenario: \n",
    "A scientist is working on permutations and needs to calculate the factorial of numbers frequently. ",
    " Write logic to find the factorial of a given number using recursion."
   ]
  },
  {
   "cell_type": "markdown",
   "id": "61d221c6-3df0-447d-b9ba-1b9fd8f37092",
   "metadata": {},
   "source": [
    "Logic-5:\n",
    "    1. Get number from user.\n",
    "    2. if number lessthen or equal to 1 means return 1(0,1 factorial 1)\n",
    "    3. else return number*factorial(num-1)"
   ]
  },
  {
   "cell_type": "code",
   "execution_count": 85,
   "id": "3934c5a1-b9e6-41df-9727-a2949c61e043",
   "metadata": {},
   "outputs": [],
   "source": [
    "def factorial(num):\n",
    "    if num <= 1:\n",
    "        return 1\n",
    "    else:\n",
    "        return num * factorial(num-1)"
   ]
  },
  {
   "cell_type": "code",
   "execution_count": 87,
   "id": "785a3694-7656-4cdf-a946-e2325ee99446",
   "metadata": {},
   "outputs": [
    {
     "name": "stdin",
     "output_type": "stream",
     "text": [
      "Enter the number: 7\n"
     ]
    },
    {
     "data": {
      "text/plain": [
       "5040"
      ]
     },
     "execution_count": 87,
     "metadata": {},
     "output_type": "execute_result"
    }
   ],
   "source": [
    "num=int(input('Enter the number:'))\n",
    "factorial(num)"
   ]
  },
  {
   "cell_type": "markdown",
   "id": "dd4fec7a-e2d2-44b0-94e5-0ef0d5939523",
   "metadata": {},
   "source": [
    "6.Scenario:\n",
    "A unique lottery system assigns ticket numbers where only Armstrong numbers win the jackpot. ",
    " Write logic to check whether a given number is an Armstrong number."
   ]
  },
  {
   "cell_type": "markdown",
   "id": "71447ddb-fcdb-4f7d-9029-cdfbf6d48a22",
   "metadata": {},
   "source": [
    "Logic-6:\n",
    "\t1. get the ticket number From user.\n",
    "\t2. Fix the amstrong number to check.\n",
    "\t3. Check whether a given number is equal to Armstrong number or not.\n",
    "\t\tif yes, return ‘you won the lottery’,\n",
    "\t\telse return ‘Better luck next time’"
   ]
  },
  {
   "cell_type": "code",
   "execution_count": 4,
   "id": "aad23733-8a29-4689-a110-533d65df44ec",
   "metadata": {},
   "outputs": [
    {
     "name": "stdin",
     "output_type": "stream",
     "text": [
      "Enter the numbers: 2345\n"
     ]
    },
    {
     "name": "stdout",
     "output_type": "stream",
     "text": [
      "Better luck next time\n"
     ]
    }
   ],
   "source": [
    "Ticket_number=int(input('Enter the numbers:'))\n",
    "Amstrong_number = 56743902\n",
    "if Ticket_number == Amstrong_number:\n",
    "    print('You won the lottery')\n",
    "else:\n",
    "    print('Better luck next time')"
   ]
  },
  {
   "cell_type": "markdown",
   "id": "b6cc3f93-39b4-4edc-bace-0eb7300709a2",
   "metadata": {},
   "source": [
    "7.Scenario: A password manager needs to strengthen weak passwords by swapping the first and last characters of user-generated passwords. ",
    " Write logic to perform this operation on a given string."
   ]
  },
  {
   "cell_type": "markdown",
   "id": "0db04c5e-3b34-4cc1-9707-b28a79ea339c",
   "metadata": {},
   "source": [
    "Logic-7:\n",
    "    1. Get password from user.\n",
    "    2. if password length less then 2(single letter), return 1\n",
    "    3. otherwise, split it as a last index,middle part,first index. and concatenate all in required order."
   ]
  },
  {
   "cell_type": "code",
   "execution_count": 98,
   "id": "475ed723-d599-402a-aa5e-4ca22a9c22b9",
   "metadata": {},
   "outputs": [],
   "source": [
    "def strengthen_password(pw):\n",
    "    if len(pw) < 2:\n",
    "        return pw\n",
    "    else:\n",
    "        return pw[-1] + pw[1:-1] + pw[0]"
   ]
  },
  {
   "cell_type": "code",
   "execution_count": 100,
   "id": "390b7cea-cf4f-4f94-9b3e-f2ea4332a45a",
   "metadata": {},
   "outputs": [
    {
     "name": "stdin",
     "output_type": "stream",
     "text": [
      "Enter a password 12\n"
     ]
    },
    {
     "data": {
      "text/plain": [
       "'21'"
      ]
     },
     "execution_count": 100,
     "metadata": {},
     "output_type": "execute_result"
    }
   ],
   "source": [
    "pw=input('Enter a password')\n",
    "strengthen_password(pw)"
   ]
  },
  {
   "cell_type": "markdown",
   "id": "8f5604d3-a6d8-4049-9d57-d519da7a30c3",
   "metadata": {},
   "source": [
    "8.Scenario:\n",
    "A low-level networking application requires decimal numbers to be converted into binary format before transmission. ",
    " Write logic to convert a given decimal number into its binary equivalent."
   ]
  },
  {
   "cell_type": "markdown",
   "id": "e494ea29-4ad7-4c81-b095-71c1df543584",
   "metadata": {},
   "source": [
    "Logic-8:\n",
    "    1. Get the input.\n",
    "    2. And typecast into binary.(bin())."
   ]
  },
  {
   "cell_type": "code",
   "execution_count": 8,
   "id": "d97d4956-f1c3-4121-9eba-55f1bd602065",
   "metadata": {},
   "outputs": [
    {
     "name": "stdin",
     "output_type": "stream",
     "text": [
      "Enter the Numbers: 123\n"
     ]
    },
    {
     "data": {
      "text/plain": [
       "'0b1111011'"
      ]
     },
     "execution_count": 8,
     "metadata": {},
     "output_type": "execute_result"
    }
   ],
   "source": [
    "decimal_number = int(input('Enter the Numbers:'))\n",
    "bin(decimal_number)"
   ]
  },
  {
   "cell_type": "markdown",
   "id": "47ccd914-7c9f-4568-9251-741f005a85bc",
   "metadata": {},
   "source": [
    "9.Scenario:\n",
    "A text-processing tool helps summarize articles by identifying the most significant words. ",
    " Write logic to find the longest word in a sentence."
   ]
  },
  {
   "cell_type": "markdown",
   "id": "5907ff98-ed3b-45bb-bd0a-8df64fbf8679",
   "metadata": {},
   "source": [
    "Logic-9:\n",
    "    1. Get the input from user.\n",
    "    2. get input as a 'sentence'.\n",
    "    3. split the word in that sentence \n",
    "    4. then use attribute max to find the longest word based on length."
   ]
  },
  {
   "cell_type": "code",
   "execution_count": 71,
   "id": "1b537dca-04aa-435e-b43f-5f9d16dac082",
   "metadata": {},
   "outputs": [],
   "source": [
    "def longest_word(sentence):\n",
    "    words = sentence.split()\n",
    "    # print(words)\n",
    "    longest_word = max(words,key=len)\n",
    "    print('longest word in a sentence:',longest_word)"
   ]
  },
  {
   "cell_type": "code",
   "execution_count": 73,
   "id": "611f911d-a088-48f1-8dfa-07d94a62f8a1",
   "metadata": {},
   "outputs": [
    {
     "name": "stdin",
     "output_type": "stream",
     "text": [
      "Type the sentence: I am learning python\n"
     ]
    },
    {
     "name": "stdout",
     "output_type": "stream",
     "text": [
      "longest word in a sentence: learning\n"
     ]
    }
   ],
   "source": [
    "sentence = input('Type the sentence:')\n",
    "longest_word(sentence)"
   ]
  },
  {
   "cell_type": "markdown",
   "id": "d0a639ed-2e88-4cb8-8c6c-c58a44fa690a",
   "metadata": {},
   "source": [
    "10.Scenario: \n",
    "A plagiarism detection tool compares words from different documents and checks if they are anagrams (same characters but different order). ",
    " Write logic to check whether two given strings are anagrams."
   ]
  },
  {
   "cell_type": "markdown",
   "id": "f5a91c0e-212b-45e2-8b77-a4cf26508245",
   "metadata": {},
   "source": [
    "Logic:-10\n",
    "    1. sorted(str): Sorts characters alphabetically.\n",
    "    2. If sorted versions of both strings are equal, they are anagrams."
   ]
  },
  {
   "cell_type": "code",
   "execution_count": 93,
   "id": "12d99138-67fe-4c28-bf12-b9f49277402f",
   "metadata": {},
   "outputs": [
    {
     "name": "stdout",
     "output_type": "stream",
     "text": [
      "light tihgl are anagram\n"
     ]
    }
   ],
   "source": [
    "str_1='light'\n",
    "str_2 = 'tihgl'\n",
    "if sorted(str_1) == sorted(str_2):\n",
    "    print(str_1,str_2,'are anagram')"
   ]
  },
  {
   "cell_type": "code",
   "execution_count": null,
   "id": "5e74ed90-acc1-454e-b376-2ada1030abdf",
   "metadata": {},
   "outputs": [],
   "source": []
  },
  {
   "cell_type": "code",
   "execution_count": null,
   "id": "5f66f599-b509-47b2-9254-33cdeb65457b",
   "metadata": {},
   "outputs": [],
   "source": []
  },
  {
   "cell_type": "code",
   "execution_count": null,
   "id": "3316c71e-2369-4901-9291-93efdd24350b",
   "metadata": {},
   "outputs": [],
   "source": []
  },
  {
   "cell_type": "code",
   "execution_count": null,
   "id": "8bd33a93-bbb0-41ad-ad58-512810270d27",
   "metadata": {},
   "outputs": [],
   "source": []
  },
  {
   "cell_type": "code",
   "execution_count": null,
   "id": "f6011d28-07e3-4b4a-84c1-2e589a77b375",
   "metadata": {},
   "outputs": [],
   "source": []
  }
 ],
 "metadata": {
  "kernelspec": {
   "display_name": "Python 3 (ipykernel)",
   "language": "python",
   "name": "python3"
  },
  "language_info": {
   "codemirror_mode": {
    "name": "ipython",
    "version": 3
   },
   "file_extension": ".py",
   "mimetype": "text/x-python",
   "name": "python",
   "nbconvert_exporter": "python",
   "pygments_lexer": "ipython3",
   "version": "3.12.4"
  }
 },
 "nbformat": 4,
 "nbformat_minor": 5
}
