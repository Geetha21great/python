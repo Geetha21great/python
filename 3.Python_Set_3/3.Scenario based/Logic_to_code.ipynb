{
 "cells": [
  {
   "cell_type": "code",
   "execution_count": null,
   "id": "79c6e6d6-dd01-4a07-ac3e-0806340e94ab",
   "metadata": {},
   "outputs": [],
   "source": [
    "'''Scenario: A user is required to enter a valid number in a form, but users sometimes input invalid data.\n",
    "Write logic to repeatedly prompt the user until they enter a valid integer.'''\n",
    "\n",
    "\tLogic-1:\n",
    "\t\t1. Fix the valid number.\t\t\n",
    "\t\t2. Get the user Entered number.\n",
    "\t\t3. If user “entered number” is not match to “valid number” means, it will give \t\t\t\t\n",
    "        prompt until user has to enter valid number."
   ]
  },
  {
   "cell_type": "code",
   "execution_count": 31,
   "id": "c668800b-b8e0-4275-9cde-832906286a25",
   "metadata": {},
   "outputs": [],
   "source": [
    "def prompt_invalidnum(user_number):        \n",
    "    valid_num = 9916041959\n",
    "\n",
    "    if user_number == valid_num:\n",
    "        return 'Valid number'\n",
    "    else:\n",
    "        return 'Invalid number'"
   ]
  },
  {
   "cell_type": "code",
   "execution_count": 33,
   "id": "8921a37a-64cc-4fcc-ac81-274598be4afe",
   "metadata": {},
   "outputs": [],
   "source": [
    "# user_number = int(input('Enter a valid_number:'))\n",
    "# prompt_invalidnum(user_number)"
   ]
  },
  {
   "cell_type": "code",
   "execution_count": 35,
   "id": "8f2f5b73-897e-4302-a7dd-61f446e3a993",
   "metadata": {},
   "outputs": [
    {
     "name": "stdout",
     "output_type": "stream",
     "text": [
      "Valid number\n"
     ]
    }
   ],
   "source": [
    "test_numbers = [1234567,98765432,9916041959]\n",
    "for user_number in test_numbers:\n",
    "    result =  prompt_invalidnum(user_number)\n",
    "print(result)"
   ]
  },
  {
   "cell_type": "code",
   "execution_count": null,
   "id": "0ee81452-b5cd-4760-90b1-4555bf792de9",
   "metadata": {},
   "outputs": [],
   "source": [
    "'''Scenario: A data analysis tool processes a list of numbers and needs to identify the most frequently occurring value. ",
    "\n",
    "Write logic to find the most frequently occurring number in a given list.'''\n",
    "Logic-2:\n",
    "    1. Import the `Counter` class from the `collections` module.\n",
    "    2. Get a list of numbers as input.\n",
    "    3. Check whether the list contains any values.\n",
    "    4. If the list is empty, return 'None'.\n",
    "    5. Use the `Counter` class to count how many times each number appears.\n",
    "    6. Return the most frequently occurring number along with its count."
   ]
  },
  {
   "cell_type": "code",
   "execution_count": 373,
   "id": "5ebbecf4-6392-45f4-9502-7eb273699817",
   "metadata": {},
   "outputs": [],
   "source": [
    "from collections import Counter\n",
    "\n",
    "def most_frequent(lst):\n",
    "    if not lst:\n",
    "        return None\n",
    "        \n",
    "    counter = Counter(lst)\n",
    "    # print(counter)\n",
    "    result = counter.most_common(1)[0]\n",
    "    return result \n",
    "    # most_common[0],most_common[1]'"
   ]
  },
  {
   "cell_type": "code",
   "execution_count": 375,
   "id": "012d1fdc-cebe-4433-9478-ed50b2029e46",
   "metadata": {},
   "outputs": [
    {
     "data": {
      "text/plain": [
       "(23, 7)"
      ]
     },
     "execution_count": 375,
     "metadata": {},
     "output_type": "execute_result"
    }
   ],
   "source": [
    "lst = [12,23,45,67,345,21,34,33,22,56,78,12,23,12,12,45,45,67,89,23,23,23,23,67,23]\n",
    "most_frequent(lst)"
   ]
  },
  {
   "cell_type": "code",
   "execution_count": 3,
   "id": "6060431a-8f64-4d74-b54f-60841fc4c198",
   "metadata": {},
   "outputs": [
    {
     "name": "stdout",
     "output_type": "stream",
     "text": [
      "23 7\n"
     ]
    }
   ],
   "source": [
    "# Method2\n",
    "lst = [12,23,45,67,345,21,34,33,22,56,78,12,23,12,12,45,45,67,89,23,23,23,23,67,23]\n",
    "most_frequent = max(set(lst), key=lst.count)\n",
    "count = lst.count(most_frequent)\n",
    "print(most_frequent,count)"
   ]
  },
  {
   "cell_type": "code",
   "execution_count": null,
   "id": "ee676d06-163e-4ec1-8d05-91d374ebdbfb",
   "metadata": {},
   "outputs": [],
   "source": [
    "'''Scenario: A text-processing application needs to compare words and check \n",
    "if they are anagrams (contain the same letters in a different order). ",
    " Write logic to determine whether two given strings are anagrams.'''\n",
    "\n",
    "Logic-3:\n",
    "    1.Get the two input strings.\n",
    "    2.Check whether all letters of one string occur in the other string (order of letters does not matter).\n",
    "    3.Split the strings into individual characters and compare each letter one by one.\n",
    "    4.If all letters occur in both strings with the same frequency, they are anagrams."
   ]
  },
  {
   "cell_type": "code",
   "execution_count": 31,
   "id": "073401ae-6d31-4dab-9965-443ea252a207",
   "metadata": {},
   "outputs": [],
   "source": [
    "def is_anagram(str_1,str_2):\n",
    "    str_1  = str_1.lower().replace(' ','')\n",
    "    str_2 = str_2.lower().replace(' ','')\n",
    "    return sorted(str_1) == sorted(str_2)"
   ]
  },
  {
   "cell_type": "code",
   "execution_count": 33,
   "id": "1e72a894-d8f9-4cff-8882-7f515ce87544",
   "metadata": {},
   "outputs": [
    {
     "name": "stdin",
     "output_type": "stream",
     "text": [
      "Enter str_1: silent\n",
      "Enter str_2: SILENT\n"
     ]
    },
    {
     "name": "stdout",
     "output_type": "stream",
     "text": [
      "True\n",
      "\"silent\" and \"SILENT\" are an anagrams\n"
     ]
    }
   ],
   "source": [
    "str_1 = input('Enter str_1:')\n",
    "str_2 = input('Enter str_2:')\n",
    "result = is_anagram(str_1,str_2)\n",
    "print(result)\n",
    "if result:\n",
    "        print(f'\"{str_1}\" and \"{str_2}\" are an anagrams')\n",
    "else:\n",
    "        print(f'\"{str_1}\" and \"{str_2}\" are not an anagrams')\n"
   ]
  },
  {
   "cell_type": "code",
   "execution_count": null,
   "id": "ea070b54-e639-4b0b-85bf-43a50a11d199",
   "metadata": {},
   "outputs": [],
   "source": [
    "'''Scenario: A speech analysis program needs to count the number of vowel sounds in a given input. ",
    " Write logic to count the number of vowels in a given string.'''\n",
    "\n",
    "Logic-4:\n",
    "1. get input string from user.\n",
    "2. check whether the given string has vowels or not .\n",
    "3. if yes, count as 1 like wise, untill the end   "
   ]
  },
  {
   "cell_type": "code",
   "execution_count": 82,
   "id": "c1922155-1f52-4584-ab7b-b06fe94eb934",
   "metadata": {},
   "outputs": [
    {
     "name": "stdout",
     "output_type": "stream",
     "text": [
      "6\n"
     ]
    }
   ],
   "source": [
    "str = 'I am learning Phython'\n",
    "count = 0\n",
    "for i in str:\n",
    "    if i in ['a','e','i','o','u','A','E','I','O','U']:\n",
    "        count+=1\n",
    "print(count)"
   ]
  },
  {
   "cell_type": "code",
   "execution_count": null,
   "id": "e2f5f7d9-d3d8-4923-a5b7-da6c0ee753d1",
   "metadata": {},
   "outputs": [],
   "source": [
    "'''Scenario:\n",
    "A text-editing software includes a feature to reverse the order of words in a sentence for stylistic effects. ",
    "\n",
    "Write logic to reverse the order of words in a sentence while keeping the words themselves intact.'''\n",
    "\n",
    "Logic-5:\n",
    "    1. Get the input sentence from the user.\n",
    "    2. split all words using split attributes as a list and reverse the list using slicing and steping.\n",
    "    3. join the word and print final output in form of reverse the word."
   ]
  },
  {
   "cell_type": "code",
   "execution_count": 15,
   "id": "32381a3e-680e-4bf5-8a22-5391c5c313fa",
   "metadata": {},
   "outputs": [],
   "source": [
    "def reverse_word(str):\n",
    "    str_1=str.split()\n",
    "    rev_word = str_1[::-1]\n",
    "    rev_word\n",
    "    final_rev = ' '.join(rev_word)\n",
    "    return final_rev"
   ]
  },
  {
   "cell_type": "code",
   "execution_count": 21,
   "id": "353f573a-8645-49cd-b33d-6979e24bb5d0",
   "metadata": {},
   "outputs": [
    {
     "data": {
      "text/plain": [
       "'python learning am I'"
      ]
     },
     "execution_count": 21,
     "metadata": {},
     "output_type": "execute_result"
    }
   ],
   "source": [
    "str = 'I am learning python'\n",
    "reverse_word(str)"
   ]
  },
  {
   "cell_type": "code",
   "execution_count": null,
   "id": "84f492de-38af-4ceb-85a0-906f9f20532a",
   "metadata": {},
   "outputs": [],
   "source": [
    "'''6.Scenario: \n",
    "    A missing number is detected in a sequence of values stored in a database. ",
    " Write logic to find the missing number in a list \n",
    "    containing n-1 numbers from 1 to n. '''\n",
    "\n",
    "Logic_6:\n",
    "    Get the list of numbers (some missing).\n",
    "    Define the full set from 1 to n.\n",
    "    Convert your input list into a set.\n",
    "    Subtract the input set from the full set → this gives the missing numbers."
   ]
  },
  {
   "cell_type": "code",
   "execution_count": 39,
   "id": "34e7d4b7-6c95-490e-b371-ec9dbee6b36e",
   "metadata": {},
   "outputs": [],
   "source": [
    "def find_missing_numbers(numbers,n):\n",
    "    full_set = set(range(1,n+1))\n",
    "    # print(full_set)\n",
    "    actual_set = set(numbers)\n",
    "    # print(actual_set)\n",
    "    missing_numbers = sorted(list(full_set - actual_set))\n",
    "    return missing_numbers"
   ]
  },
  {
   "cell_type": "code",
   "execution_count": 41,
   "id": "5dc80a72-5450-4015-a6db-0da73b1934da",
   "metadata": {},
   "outputs": [
    {
     "data": {
      "text/plain": [
       "[5, 8, 13, 16]"
      ]
     },
     "execution_count": 41,
     "metadata": {},
     "output_type": "execute_result"
    }
   ],
   "source": [
    "numbers=[1,2,3,4,6,7,9,10,11,12,14,15]\n",
    "n = 16\n",
    "find_missing_numbers(numbers,n)"
   ]
  },
  {
   "cell_type": "code",
   "execution_count": null,
   "id": "f933b064-1128-40c1-aa92-896edc07154f",
   "metadata": {},
   "outputs": [],
   "source": [
    "'''7.Scenario: \n",
    "    An ATM machine processes withdrawal requests and needs to ensure that users cannot withdraw more than their account balance.\n",
    "Write logic to allow a withdrawal only if the balance is sufficient.'''\n",
    "\n",
    "Logic-7:\n",
    "    1. Get the withdrawel amount from the user.\n",
    "    2. fix the balance_amount.\n",
    "    3. if withdrawel_amount <= balance_amount:\n",
    "        subract the withdrawel amount from balance amount and return updated balance amount\n",
    "    4. otherwise; return insufficient balance. your balance amount is 'return  updated balance amount'.\n",
    "        \n",
    " \n",
    "        "
   ]
  },
  {
   "cell_type": "code",
   "execution_count": 11,
   "id": "8e54dcb6-525d-4a92-8195-ec02e180a477",
   "metadata": {},
   "outputs": [],
   "source": [
    "balance_amount = 100000\n",
    "def money_withdrawel(withdrawel_amount):\n",
    "    global balance_amount\n",
    "    if withdrawel_amount <= balance_amount:\n",
    "        balance_amount -= withdrawel_amount\n",
    "        return balance_amount\n",
    "    else:\n",
    "        return f'insufficient balance.your balance amount is {balance_amount}'\n",
    "    "
   ]
  },
  {
   "cell_type": "code",
   "execution_count": 17,
   "id": "d2c1e8ac-550d-4f08-9899-11ce28f06162",
   "metadata": {},
   "outputs": [
    {
     "name": "stdin",
     "output_type": "stream",
     "text": [
      "Enter the input: 20000\n"
     ]
    },
    {
     "data": {
      "text/plain": [
       "5000"
      ]
     },
     "execution_count": 17,
     "metadata": {},
     "output_type": "execute_result"
    }
   ],
   "source": [
    "withdrawel_amount = int(input('Enter the input:'))\n",
    "money_withdrawel(withdrawel_amount)"
   ]
  },
  {
   "cell_type": "code",
   "execution_count": null,
   "id": "ee2eae2f-e030-49d5-91b7-630e8a3dbdbf",
   "metadata": {},
   "outputs": [],
   "source": [
    "'''8.Scenario:\n",
    "    A system needs to verify whether a given dataset contains duplicate entries. ",
    " Write logic to check whether a given list contains duplicate values.'''"
   ]
  },
  {
   "cell_type": "code",
   "execution_count": 59,
   "id": "d4ac58ba-1612-4566-a7a7-f30f1acbde3d",
   "metadata": {},
   "outputs": [],
   "source": [
    "def find_duplicates(list):\n",
    "    total_numbers = len(list)\n",
    "    unique_numbers = len(set(list))\n",
    "    if total_numbers == unique_numbers:\n",
    "        return 'No duplicates'\n",
    "    else:\n",
    "        return 'Duplicates found'"
   ]
  },
  {
   "cell_type": "code",
   "execution_count": 63,
   "id": "352bcfee-b2de-405d-88b2-f2961eabb16f",
   "metadata": {},
   "outputs": [
    {
     "data": {
      "text/plain": [
       "'No duplicates'"
      ]
     },
     "execution_count": 63,
     "metadata": {},
     "output_type": "execute_result"
    }
   ],
   "source": [
    "list=[1,2,3,4,5,6,7,8,9,10]\n",
    "find_duplicates(list)"
   ]
  },
  {
   "cell_type": "code",
   "execution_count": null,
   "id": "52d6694f-74bf-4446-b04b-b9403a6f36c9",
   "metadata": {},
   "outputs": [],
   "source": [
    "'''9.Scenario: \n",
    "A digital calculator includes a feature to sum the digits of a number for verification purposes. ",
    " Write logic to calculate the sum of all digits in a given integer'''"
   ]
  },
  {
   "cell_type": "code",
   "execution_count": 77,
   "id": "df29dc7b-0486-41e5-b404-706e97407074",
   "metadata": {},
   "outputs": [],
   "source": [
    "def sum_of_digits(n):\n",
    "    total=0\n",
    "    for i in range(1,n+1):\n",
    "        # print(i)\n",
    "        total += i\n",
    "    return total"
   ]
  },
  {
   "cell_type": "code",
   "execution_count": 79,
   "id": "90f08371-99e4-4b97-84bf-e7a06f04b601",
   "metadata": {},
   "outputs": [
    {
     "data": {
      "text/plain": [
       "55"
      ]
     },
     "execution_count": 79,
     "metadata": {},
     "output_type": "execute_result"
    }
   ],
   "source": [
    "n = 10\n",
    "sum_of_digits(n)"
   ]
  },
  {
   "cell_type": "code",
   "execution_count": null,
   "id": "d52b5c4c-ef96-4541-ac1f-9e92e7665b7a",
   "metadata": {},
   "outputs": [],
   "source": [
    "'''10. Scenario:\n",
    " A language-learning app wants to verify whether a given sentence is a pangram (contains every letter of the alphabet at least once).\n",
    "Write logic to check if a given sentence is a pangram.'''\n",
    "\n",
    "Logic-10:\n",
    "    1. get the all_letter in lowercase from string class.\n",
    "    2. get the sentence fro user,convert into lower case,and filter the unique value.\n",
    "    3. check wheather  given sentence is subset of all_letters or not.\n",
    "        if yes, means return 'its pangram'\n",
    "        otherwise, 'it's not a pangram'"
   ]
  },
  {
   "cell_type": "code",
   "execution_count": 119,
   "id": "4dd4c1df-e483-4b6c-bf24-85278b24a0ee",
   "metadata": {},
   "outputs": [],
   "source": [
    "import string\n",
    "\n",
    "def is_pangram(sentence):\n",
    "    sentence = set(sentence.lower())\n",
    "    all_letters = set(string.ascii_lowercase)\n",
    "    return all_letters.issubset(sentence)"
   ]
  },
  {
   "cell_type": "code",
   "execution_count": 121,
   "id": "7efba7bd-2fe5-46b3-99f3-a5f7053b5641",
   "metadata": {},
   "outputs": [
    {
     "name": "stdout",
     "output_type": "stream",
     "text": [
      "The sentence is a pangram\n"
     ]
    }
   ],
   "source": [
    "sentence = \"The quick brown fox jumps over the lazy dog\"\n",
    "if is_pangram(sentence):\n",
    "    print('The sentence is a pangram')\n",
    "else:\n",
    "    print('The sentence is not a pangram')"
   ]
  },
  {
   "cell_type": "code",
   "execution_count": null,
   "id": "409567be-ab3f-4b27-aa61-8992695bf578",
   "metadata": {},
   "outputs": [],
   "source": []
  }
 ],
 "metadata": {
  "kernelspec": {
   "display_name": "Python 3 (ipykernel)",
   "language": "python",
   "name": "python3"
  },
  "language_info": {
   "codemirror_mode": {
    "name": "ipython",
    "version": 3
   },
   "file_extension": ".py",
   "mimetype": "text/x-python",
   "name": "python",
   "nbconvert_exporter": "python",
   "pygments_lexer": "ipython3",
   "version": "3.12.4"
  }
 },
 "nbformat": 4,
 "nbformat_minor": 5
}
