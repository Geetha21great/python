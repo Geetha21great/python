{
 "cells": [
  {
   "cell_type": "code",
   "execution_count": null,
   "id": "511e5dbe",
   "metadata": {},
   "outputs": [],
   "source": [
    "#1. Square of Numbers from 1 to 5\n",
    "Output:\n",
    "1 4 9 16 25\n"
   ]
  },
  {
   "cell_type": "code",
   "execution_count": 8,
   "id": "b2449ca6-ca9e-4726-b1cc-490157ef0323",
   "metadata": {},
   "outputs": [
    {
     "name": "stdout",
     "output_type": "stream",
     "text": [
      "1\n",
      "4\n",
      "9\n",
      "16\n",
      "25\n"
     ]
    }
   ],
   "source": [
    "for i in range(1,6):\n",
    "    # print(i)\n",
    "    square = i ** 2\n",
    "    print(square)"
   ]
  },
  {
   "cell_type": "code",
   "execution_count": null,
   "id": "e886abee",
   "metadata": {},
   "outputs": [],
   "source": [
    "#2.Swap Two Variables Without Using a Temporary Variable\n",
    "Question: Write a Python program to swap two variables a = 5 and b = 10 without using a temporary variable.\n",
    "\n"
   ]
  },
  {
   "cell_type": "code",
   "execution_count": 18,
   "id": "ab83b0d4-d29f-467b-baf8-fb7397577748",
   "metadata": {},
   "outputs": [
    {
     "name": "stdout",
     "output_type": "stream",
     "text": [
      "a : 10\n",
      "b : 5\n"
     ]
    }
   ],
   "source": [
    "# 1.tuple unpacking.\n",
    "a = 5\n",
    "b = 10\n",
    "a,b = b,a\n",
    "print('a :',a)\n",
    "print('b :',b)"
   ]
  },
  {
   "cell_type": "code",
   "execution_count": 22,
   "id": "32c8eea3-3078-49a2-96e5-26b0da38f6ba",
   "metadata": {},
   "outputs": [
    {
     "name": "stdout",
     "output_type": "stream",
     "text": [
      "a : 10\n",
      "b : 5\n"
     ]
    }
   ],
   "source": [
    "# 2.list (alternative approach):\n",
    "a = 5\n",
    "b = 10\n",
    "a,b = [b,a]\n",
    "print('a :',a)\n",
    "print('b :', b)"
   ]
  },
  {
   "cell_type": "code",
   "execution_count": 24,
   "id": "d0587bbe-c9d4-452d-ab5a-6d1d310425cd",
   "metadata": {},
   "outputs": [
    {
     "name": "stdout",
     "output_type": "stream",
     "text": [
      "a: 10\n",
      "b 5\n"
     ]
    }
   ],
   "source": [
    "# 3.Multiplication/Division method:\n",
    "a = 5\n",
    "b = 10\n",
    "a = a * b\n",
    "b = a//b\n",
    "a = a//b\n",
    "print('a:',a)\n",
    "print('b',b)"
   ]
  },
  {
   "cell_type": "code",
   "execution_count": null,
   "id": "adfc0479",
   "metadata": {},
   "outputs": [],
   "source": [
    " #3.Find Even and Odd Numbers in a List\n",
    "Question: Write a Python program to separate even and odd numbers from the list [12, 17, 19, 24, 35, 40, 56]. "
   ]
  },
  {
   "cell_type": "code",
   "execution_count": 46,
   "id": "81b8a55e-3d97-4fd7-8ee3-1c8e8dbd2cf5",
   "metadata": {},
   "outputs": [
    {
     "name": "stdout",
     "output_type": "stream",
     "text": [
      "Even numbers : [12, 24, 40, 56]\n",
      "Odd nummbers [17, 19, 35]\n"
     ]
    }
   ],
   "source": [
    "list=[12, 17, 19, 24, 35, 40, 56]\n",
    "even_numbers = []\n",
    "odd_numbers = []\n",
    "for i in list:\n",
    "    # print(i)\n",
    "    if i % 2 == 0:\n",
    "        even_numbers.append(i)\n",
    "    else:\n",
    "        odd_numbers.append(i)   \n",
    "print('Even numbers :',even_numbers)  \n",
    "print('Odd nummbers',odd_numbers)\n"
   ]
  },
  {
   "cell_type": "code",
   "execution_count": 48,
   "id": "9bd0afd7",
   "metadata": {},
   "outputs": [
    {
     "data": {
      "text/plain": [
       "'54321'"
      ]
     },
     "execution_count": 48,
     "metadata": {},
     "output_type": "execute_result"
    }
   ],
   "source": [
    "#4. Reverse a Number\n",
    "# Question: Write a Python program to reverse the number 12345.\n",
    "\n",
    "# 1.\n",
    "n=12345\n",
    "n = str(n)\n",
    "n[::-1]"
   ]
  },
  {
   "cell_type": "code",
   "execution_count": 20,
   "id": "00b25e86-b892-454b-9011-a2c3463a5741",
   "metadata": {},
   "outputs": [
    {
     "name": "stdout",
     "output_type": "stream",
     "text": [
      "54321\n"
     ]
    }
   ],
   "source": [
    "#2.\n",
    "num = 12345\n",
    "reverse_digit = 0\n",
    "while num > 0:\n",
    "    last_digit = num % 10 \n",
    "    reverse_digit = reverse_digit * 10+last_digit\n",
    "    num = num//10\n",
    "print(reverse_digit)\n"
   ]
  },
  {
   "cell_type": "code",
   "execution_count": null,
   "id": "baf1f666",
   "metadata": {},
   "outputs": [],
   "source": [
    "#5. Find the Second Largest Number in a List\n",
    "Question: Write a Python program to find the second largest number in the list [12, 45, 98, 34, 23].\n"
   ]
  },
  {
   "cell_type": "code",
   "execution_count": 28,
   "id": "eb6e77d2",
   "metadata": {},
   "outputs": [
    {
     "name": "stdout",
     "output_type": "stream",
     "text": [
      "[12, 23, 34, 45, 98]\n",
      "second largest value: 23\n"
     ]
    }
   ],
   "source": [
    "list=[12, 45, 98, 34, 23]\n",
    "lst = sorted(list)\n",
    "print(lst)\n",
    "print('second largest value:',lst[1])"
   ]
  },
  {
   "cell_type": "code",
   "execution_count": null,
   "id": "a73f86c4",
   "metadata": {},
   "outputs": [],
   "source": []
  }
 ],
 "metadata": {
  "kernelspec": {
   "display_name": "Python 3 (ipykernel)",
   "language": "python",
   "name": "python3"
  },
  "language_info": {
   "codemirror_mode": {
    "name": "ipython",
    "version": 3
   },
   "file_extension": ".py",
   "mimetype": "text/x-python",
   "name": "python",
   "nbconvert_exporter": "python",
   "pygments_lexer": "ipython3",
   "version": "3.12.4"
  }
 },
 "nbformat": 4,
 "nbformat_minor": 5
}
