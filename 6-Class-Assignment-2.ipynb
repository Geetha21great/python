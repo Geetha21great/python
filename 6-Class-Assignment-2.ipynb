{
 "cells": [
  {
   "cell_type": "markdown",
   "id": "8468d350-df28-4909-9447-db124cea957c",
   "metadata": {},
   "source": [
    "# Class-Assignment-2 #"
   ]
  },
  {
   "cell_type": "code",
   "execution_count": 20,
   "id": "eb89ccfe-9f62-4e42-9ac1-b9234ccdd8b9",
   "metadata": {},
   "outputs": [],
   "source": [
    "from multipleFunction import multiFunction"
   ]
  },
  {
   "cell_type": "code",
   "execution_count": 24,
   "id": "e4fdac4c-648b-4b99-a049-f8705ad33290",
   "metadata": {},
   "outputs": [
    {
     "name": "stdout",
     "output_type": "stream",
     "text": [
      "Sub-fields in AI are:\n",
      "Machine Learning\n",
      "Neural Networks\n",
      "Vision\n",
      "Robotics\n",
      "Speech Processing\n",
      "Natural Language Processing\n"
     ]
    }
   ],
   "source": [
    "multiFunction.Subfields()"
   ]
  },
  {
   "cell_type": "code",
   "execution_count": 26,
   "id": "3dadc5dc-2a90-4e08-bae8-3cfa05c9c9db",
   "metadata": {},
   "outputs": [
    {
     "name": "stdin",
     "output_type": "stream",
     "text": [
      "Enter a number 23456\n"
     ]
    },
    {
     "name": "stdout",
     "output_type": "stream",
     "text": [
      "23456 is Even number\n"
     ]
    }
   ],
   "source": [
    "multiFunction.OddEven()"
   ]
  },
  {
   "cell_type": "code",
   "execution_count": 28,
   "id": "87b6b431-660f-4f1c-a5e0-c5e3b88c0974",
   "metadata": {},
   "outputs": [
    {
     "name": "stdin",
     "output_type": "stream",
     "text": [
      "Your gender: male\n",
      "Your age: 19\n"
     ]
    },
    {
     "name": "stdout",
     "output_type": "stream",
     "text": [
      "you are not eligible for marriage\n"
     ]
    }
   ],
   "source": [
    "multiFunction.Elegible()"
   ]
  },
  {
   "cell_type": "code",
   "execution_count": 30,
   "id": "9f37b59b-142a-4928-be1a-25f10f2f371e",
   "metadata": {},
   "outputs": [
    {
     "name": "stdin",
     "output_type": "stream",
     "text": [
      "subject-1 : 90\n",
      "subject-2 : 98\n",
      "subject-3 : 78\n",
      "subject-4 : 89\n",
      "subject-5 : 99\n"
     ]
    },
    {
     "name": "stdout",
     "output_type": "stream",
     "text": [
      "Total: 454\n",
      "percentage: 90.8\n"
     ]
    }
   ],
   "source": [
    "multiFunction.percentage()"
   ]
  },
  {
   "cell_type": "code",
   "execution_count": 32,
   "id": "4d5be754-f4c8-4a73-b15c-89701b2ac676",
   "metadata": {},
   "outputs": [
    {
     "name": "stdin",
     "output_type": "stream",
     "text": [
      "Height 34\n",
      "Breath: 32\n"
     ]
    },
    {
     "name": "stdout",
     "output_type": "stream",
     "text": [
      "Area Formula:(Height*Breadth)/2\n",
      "Area of Triangle: 544.0\n"
     ]
    },
    {
     "name": "stdin",
     "output_type": "stream",
     "text": [
      "Height1: 34\n",
      "Height2: 45\n",
      "Breath 56\n"
     ]
    },
    {
     "name": "stdout",
     "output_type": "stream",
     "text": [
      "Perimeter Formula:Height1+Height2+Breadth\n",
      "Perimeter of triangle 135\n"
     ]
    }
   ],
   "source": [
    "multiFunction.triangle()"
   ]
  },
  {
   "cell_type": "code",
   "execution_count": null,
   "id": "d9ffc03d-e59e-4282-a8ab-18d3eb130d0e",
   "metadata": {},
   "outputs": [],
   "source": []
  }
 ],
 "metadata": {
  "kernelspec": {
   "display_name": "Python 3 (ipykernel)",
   "language": "python",
   "name": "python3"
  },
  "language_info": {
   "codemirror_mode": {
    "name": "ipython",
    "version": 3
   },
   "file_extension": ".py",
   "mimetype": "text/x-python",
   "name": "python",
   "nbconvert_exporter": "python",
   "pygments_lexer": "ipython3",
   "version": "3.12.4"
  }
 },
 "nbformat": 4,
 "nbformat_minor": 5
}
