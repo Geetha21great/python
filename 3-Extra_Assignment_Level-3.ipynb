{
 "cells": [
  {
   "cell_type": "markdown",
   "id": "2a2b5d54-0a38-436a-953d-4e30bb68f88a",
   "metadata": {},
   "source": [
    "# Extra_Assignent_Level-2 #"
   ]
  },
  {
   "cell_type": "code",
   "execution_count": 9,
   "id": "a0b19dc3-dbfb-44dd-b644-08cc40180ff0",
   "metadata": {},
   "outputs": [
    {
     "name": "stdin",
     "output_type": "stream",
     "text": [
      "Enter the value: 10\n"
     ]
    },
    {
     "name": "stdout",
     "output_type": "stream",
     "text": [
      "correct\n"
     ]
    }
   ],
   "source": [
    "# print correct if value = 10\n",
    "value = int(input('Enter the value:'))\n",
    "if value == 10:\n",
    "    print('correct')"
   ]
  },
  {
   "cell_type": "code",
   "execution_count": 1,
   "id": "f25c261b-c5e8-4656-94d4-a8bcf21c7825",
   "metadata": {},
   "outputs": [
    {
     "name": "stdin",
     "output_type": "stream",
     "text": [
      "Enter the password: HOPE@123\n"
     ]
    },
    {
     "name": "stdout",
     "output_type": "stream",
     "text": [
      "your password is correct\n"
     ]
    }
   ],
   "source": [
    "#check the password using if and else:\n",
    "password = input('Enter the password:')\n",
    "if password == 'HOPE@123':\n",
    "    print('your password is correct')"
   ]
  },
  {
   "cell_type": "code",
   "execution_count": 13,
   "id": "2b2b1d69-4499-4500-8445-4c76cdad142e",
   "metadata": {},
   "outputs": [
    {
     "name": "stdin",
     "output_type": "stream",
     "text": [
      "Enter the age: 20\n"
     ]
    },
    {
     "name": "stdout",
     "output_type": "stream",
     "text": [
      "Adult\n"
     ]
    }
   ],
   "source": [
    "# Catagory the people by their age like children, adult, citizen, senior citizen..\n",
    "age=int(input('Enter the age:'))\n",
    "if age<18:\n",
    "    print('Children')\n",
    "elif age<35:\n",
    "    print('Adult')\n",
    "elif age < 50:\n",
    "    print('Citizen')\n",
    "else:\n",
    "    print('Senior citizen')    "
   ]
  },
  {
   "cell_type": "code",
   "execution_count": 3,
   "id": "44c60bc0-5471-4e49-8050-0bf63563978c",
   "metadata": {},
   "outputs": [
    {
     "name": "stdin",
     "output_type": "stream",
     "text": [
      "Enter the Number: 0\n"
     ]
    },
    {
     "name": "stdout",
     "output_type": "stream",
     "text": [
      "The number is zero\n"
     ]
    }
   ],
   "source": [
    "# Find whether given number is positive or negative\n",
    "num = float(input('Enter the Number:'))\n",
    "if num>0:\n",
    "    print('No is positive')\n",
    "elif num<0:\n",
    "    print('No is Negative')\n",
    "else:\n",
    "    print('The number is zero')"
   ]
  },
  {
   "cell_type": "code",
   "execution_count": 1,
   "id": "b31a59a9-bb18-42c9-8518-592320a03e68",
   "metadata": {},
   "outputs": [
    {
     "name": "stdin",
     "output_type": "stream",
     "text": [
      "Enter the Number: 34\n"
     ]
    },
    {
     "name": "stdout",
     "output_type": "stream",
     "text": [
      "Number 34.0 is not divisible by 5\n"
     ]
    }
   ],
   "source": [
    "# Check whether the given number is divisible by 5\n",
    "num = float(input('Enter the Number:'))\n",
    "if ((num%5)==0):\n",
    "    print(f'Number {num} is divisible by 5')\n",
    "else:\n",
    "    print(f'Number {num} is not divisible by 5')"
   ]
  },
  {
   "cell_type": "code",
   "execution_count": null,
   "id": "7de470bc-f5b6-4e35-8e3d-31bc3e56f4eb",
   "metadata": {},
   "outputs": [],
   "source": []
  }
 ],
 "metadata": {
  "kernelspec": {
   "display_name": "Python 3 (ipykernel)",
   "language": "python",
   "name": "python3"
  },
  "language_info": {
   "codemirror_mode": {
    "name": "ipython",
    "version": 3
   },
   "file_extension": ".py",
   "mimetype": "text/x-python",
   "name": "python",
   "nbconvert_exporter": "python",
   "pygments_lexer": "ipython3",
   "version": "3.12.4"
  }
 },
 "nbformat": 4,
 "nbformat_minor": 5
}
