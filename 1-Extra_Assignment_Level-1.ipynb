{
 "cells": [
  {
   "cell_type": "code",
   "execution_count": 4,
   "id": "cc1d6138-8021-46a2-8c74-1127126da93d",
   "metadata": {},
   "outputs": [
    {
     "name": "stdout",
     "output_type": "stream",
     "text": [
      "HOPE AI\n"
     ]
    }
   ],
   "source": [
    "# print statement\n",
    "print('HOPE AI')"
   ]
  },
  {
   "cell_type": "code",
   "execution_count": 6,
   "id": "e98bb323-9085-4094-925e-705710b545c1",
   "metadata": {},
   "outputs": [
    {
     "name": "stdin",
     "output_type": "stream",
     "text": [
      "Enter your institute name? HOPE AI\n"
     ]
    },
    {
     "data": {
      "text/plain": [
       "'HOPE AI'"
      ]
     },
     "execution_count": 6,
     "metadata": {},
     "output_type": "execute_result"
    }
   ],
   "source": [
    "#Buy input\n",
    "input('Enter your institute name?')"
   ]
  },
  {
   "cell_type": "code",
   "execution_count": 3,
   "id": "d7246511-6172-49a0-a4db-3d7408481557",
   "metadata": {},
   "outputs": [
    {
     "name": "stdin",
     "output_type": "stream",
     "text": [
      "Enter your name : Geetha\n",
      "Enter your age: 35\n",
      "Enter your school name: SVHS\n",
      "Enter your degree: B.E ECE\n"
     ]
    },
    {
     "data": {
      "text/plain": [
       "'B.E ECE'"
      ]
     },
     "execution_count": 3,
     "metadata": {},
     "output_type": "execute_result"
    }
   ],
   "source": [
    "# Buy inputs\n",
    "input('Enter your name :')\n",
    "input('Enter your age:')\n",
    "input('Enter your school name:')\n",
    "input('Enter your degree:')"
   ]
  },
  {
   "cell_type": "code",
   "execution_count": 13,
   "id": "9e407495-298a-4693-8e8b-c58722e78270",
   "metadata": {},
   "outputs": [
    {
     "name": "stdin",
     "output_type": "stream",
     "text": [
      "Enter the num1: 34\n",
      "Enter the num2: 43\n"
     ]
    },
    {
     "name": "stdout",
     "output_type": "stream",
     "text": [
      "a= 34\n",
      "b= 43\n",
      "add= 77\n"
     ]
    }
   ],
   "source": [
    "# Addition:\n",
    "a = int(input('Enter the num1:'))\n",
    "b = int(input('Enter the num2:'))\n",
    "print('a=', a)\n",
    "print('b=', b)\n",
    "add= a+b\n",
    "print('add=',add)"
   ]
  },
  {
   "cell_type": "code",
   "execution_count": 15,
   "id": "5622cb70-0e04-432e-91a0-c856cdd0ee98",
   "metadata": {},
   "outputs": [
    {
     "name": "stdin",
     "output_type": "stream",
     "text": [
      "Enter the num1: 43\n",
      "Enter the num2: 34\n"
     ]
    },
    {
     "name": "stdout",
     "output_type": "stream",
     "text": [
      "a= 43\n",
      "b= 34\n",
      "sub= 9\n"
     ]
    }
   ],
   "source": [
    "# Subtraction:\n",
    "a = int(input('Enter the num1:'))\n",
    "b = int(input('Enter the num2:'))\n",
    "print('a=', a)\n",
    "print('b=', b)\n",
    "sub= a-b\n",
    "print('sub=',sub)"
   ]
  },
  {
   "cell_type": "code",
   "execution_count": 19,
   "id": "f0b9af5f-f77f-4e09-b0e9-5fcdb5640ac7",
   "metadata": {},
   "outputs": [
    {
     "name": "stdin",
     "output_type": "stream",
     "text": [
      "Enter the num1: 63\n",
      "Enter the num2: 97\n"
     ]
    },
    {
     "name": "stdout",
     "output_type": "stream",
     "text": [
      "a= 63\n",
      "b= 97\n",
      "Mul= 6111\n"
     ]
    }
   ],
   "source": [
    "# Multiplication:\n",
    "a = int(input('Enter the num1:'))\n",
    "b = int(input('Enter the num2:'))\n",
    "print('a=', a)\n",
    "print('b=', b)\n",
    "Mul= a*b\n",
    "print('Mul=',Mul)"
   ]
  },
  {
   "cell_type": "code",
   "execution_count": 27,
   "id": "5fcff2a4-772b-4eca-972f-8b5ae8976929",
   "metadata": {},
   "outputs": [
    {
     "name": "stdin",
     "output_type": "stream",
     "text": [
      "Enter the num1: 76\n",
      "Enter the num2: 31\n"
     ]
    },
    {
     "name": "stdout",
     "output_type": "stream",
     "text": [
      "a= 76\n",
      "b= 31\n",
      "Float Div= 2.4516129032258065\n"
     ]
    }
   ],
   "source": [
    "# Division:\n",
    "a = int(input('Enter the num1:'))\n",
    "b = int(input('Enter the num2:'))\n",
    "print('a=', a)\n",
    "print('b=', b)\n",
    "Div= a/b\n",
    "print('Float Div=',Div)"
   ]
  },
  {
   "cell_type": "code",
   "execution_count": 35,
   "id": "f45eecdd-eb4c-48c8-ab9a-c64e3cbc5b0d",
   "metadata": {},
   "outputs": [
    {
     "name": "stdin",
     "output_type": "stream",
     "text": [
      "Enter the num1: 76\n",
      "Enter the num2: 31\n"
     ]
    },
    {
     "name": "stdout",
     "output_type": "stream",
     "text": [
      "a= 76\n",
      "b= 31\n",
      "Modulo= 14\n"
     ]
    }
   ],
   "source": [
    "# Modulo:\n",
    "a = int(input('Enter the num1:'))\n",
    "b = int(input('Enter the num2:'))\n",
    "print('a=', a)\n",
    "print('b=', b)\n",
    "Modulo= a%b\n",
    "print('Modulo=',Modulo)"
   ]
  },
  {
   "cell_type": "code",
   "execution_count": 39,
   "id": "d0d8ca15-710a-485f-83a0-4ea97de86d91",
   "metadata": {},
   "outputs": [
    {
     "name": "stdin",
     "output_type": "stream",
     "text": [
      "Enter the num1: 4\n",
      "Enter the num2: 4\n"
     ]
    },
    {
     "name": "stdout",
     "output_type": "stream",
     "text": [
      "a= 4\n",
      "b= 4\n",
      "Power=  256\n"
     ]
    }
   ],
   "source": [
    "# Power\n",
    "a = int(input('Enter the num1:'))\n",
    "b = int(input('Enter the num2:'))\n",
    "print('a=', a)\n",
    "print('b=', b)\n",
    "Power= a**b\n",
    "print('Power= ',Power)"
   ]
  }
 ],
 "metadata": {
  "kernelspec": {
   "display_name": "Python 3 (ipykernel)",
   "language": "python",
   "name": "python3"
  },
  "language_info": {
   "codemirror_mode": {
    "name": "ipython",
    "version": 3
   },
   "file_extension": ".py",
   "mimetype": "text/x-python",
   "name": "python",
   "nbconvert_exporter": "python",
   "pygments_lexer": "ipython3",
   "version": "3.12.4"
  }
 },
 "nbformat": 4,
 "nbformat_minor": 5
}
